{
 "cells": [
  {
   "cell_type": "code",
   "execution_count": 1,
   "id": "received-endorsement",
   "metadata": {},
   "outputs": [],
   "source": [
    "import numpy as np\n"
   ]
  },
  {
   "cell_type": "code",
   "execution_count": 26,
   "id": "contained-facing",
   "metadata": {},
   "outputs": [],
   "source": [
    "eta = np.random.uniform(0, 1, 20000)\n",
    "gamma = np.random.uniform(0, 1, 20000)\n",
    "x = eta\n",
    "noise = np.random.normal(0, 0.1, 20000)\n",
    "val = eta + eta * gamma/2 "
   ]
  },
  {
   "cell_type": "code",
   "execution_count": 27,
   "id": "express-package",
   "metadata": {},
   "outputs": [
    {
     "data": {
      "text/plain": [
       "0.3144"
      ]
     },
     "execution_count": 27,
     "metadata": {},
     "output_type": "execute_result"
    }
   ],
   "source": [
    "np.mean(val > 0.85)"
   ]
  },
  {
   "cell_type": "code",
   "execution_count": 28,
   "id": "personal-problem",
   "metadata": {},
   "outputs": [
    {
     "data": {
      "text/plain": [
       "0.3107093162161205"
      ]
     },
     "execution_count": 28,
     "metadata": {},
     "output_type": "execute_result"
    }
   ],
   "source": [
    "1 - 2 * np.log(3/2) * 0.85"
   ]
  },
  {
   "cell_type": "code",
   "execution_count": 35,
   "id": "administrative-nickname",
   "metadata": {},
   "outputs": [],
   "source": [
    "import matplotlib.pyplot as plt\n",
    "def threshold_to_quantile(z):\n",
    "    s = np.linspace(0., 1., 100)\n",
    "    l = []\n",
    "    l2 = []\n",
    "    for si in s:\n",
    "        idx = np.where(val > si)\n",
    "        x_new = x.copy()\n",
    "        x_new[idx] = val[idx]\n",
    "        q = np.quantile(x_new, z)\n",
    "        l.append(q)\n",
    "        l2.append(np.quantile(x, z))\n",
    "    i = np.argmax(l)\n",
    "    print(s[i])\n",
    "    plt.plot(s, l)\n",
    "    plt.plot(s, l2)"
   ]
  },
  {
   "cell_type": "code",
   "execution_count": 43,
   "id": "intellectual-apollo",
   "metadata": {},
   "outputs": [
    {
     "name": "stdout",
     "output_type": "stream",
     "text": [
      "0.0\n"
     ]
    },
    {
     "data": {
      "image/png": "[encoded data removed]",
      "text/plain": [
       "<Figure size 432x288 with 1 Axes>"
      ]
     },
     "metadata": {
      "needs_background": "light"
     },
     "output_type": "display_data"
    }
   ],
   "source": [
    "threshold_to_quantile(0.5)"
   ]
  },
  {
   "cell_type": "code",
   "execution_count": null,
   "id": "common-camel",
   "metadata": {},
   "outputs": [],
   "source": []
  }
 ],
 "metadata": {
  "kernelspec": {
   "display_name": "Python 3",
   "language": "python",
   "name": "python3"
  },
  "language_info": {
   "codemirror_mode": {
    "name": "ipython",
    "version": 3
   },
   "file_extension": ".py",
   "mimetype": "text/x-python",
   "name": "python",
   "nbconvert_exporter": "python",
   "pygments_lexer": "ipython3",
   "version": "3.8.5"
  }
 },
 "nbformat": 4,
 "nbformat_minor": 5
}
